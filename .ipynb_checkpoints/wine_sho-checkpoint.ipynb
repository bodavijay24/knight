{
 "cells": [
  {
   "cell_type": "markdown",
   "metadata": {
    "colab_type": "text",
    "id": "XX19VjggsnhU"
   },
   "source": [
    "## Prediction of Wine Shop Varieties"
   ]
  },
  {
   "cell_type": "code",
   "execution_count": 1,
   "metadata": {
    "colab": {},
    "colab_type": "code",
    "id": "-3n_YefVVFp9"
   },
   "outputs": [],
   "source": [
    "#All Imports\n",
    "import os\n",
    "import re\n",
    "import string\n",
    "import pickle\n",
    "import numpy as np\n",
    "import pandas as pd\n",
    "from collections import Counter\n",
    "import matplotlib.pyplot as plt\n",
    "from textblob import TextBlob\n",
    "from sklearn.svm import SVC\n",
    "from sklearn.impute import SimpleImputer\n",
    "from sklearn.model_selection import GridSearchCV\n",
    "from sklearn.ensemble import GradientBoostingClassifier,RandomForestClassifier\n",
    "from sklearn.preprocessing import LabelEncoder,StandardScaler\n",
    "plt.rcParams[\"figure.figsize\"] = (10,7)\n",
    "%matplotlib inline"
   ]
  },
  {
   "cell_type": "code",
   "execution_count": 13,
   "metadata": {
    "colab": {},
    "colab_type": "code",
    "id": "5MWUGQ01snhh"
   },
   "outputs": [],
   "source": [
    "## Get File details in the current working directory\n",
    "def find_files():\n",
    "    cwd=os.getcwd()\n",
    "    files=os.listdir(cwd)\n",
    "    return files"
   ]
  },
  {
   "cell_type": "code",
   "execution_count": null,
   "metadata": {
    "colab": {},
    "colab_type": "code",
    "id": "5nSex1aFtkDL"
   },
   "outputs": [],
   "source": []
  },
  {
   "cell_type": "code",
   "execution_count": null,
   "metadata": {
    "colab": {},
    "colab_type": "code",
    "id": "mfmcfyh3VFqB"
   },
   "outputs": [],
   "source": [
    "#Read_the_data\n",
    "#train_df=pd.read_csv(\"Data/train.csv\")\n",
    "#test_df=pd.read_csv(\"Data/test.csv\")\n",
    "#df1=train_df.copy()"
   ]
  },
  {
   "cell_type": "markdown",
   "metadata": {
    "colab_type": "text",
    "id": "-NBYBB8PVFqM"
   },
   "source": [
    "## Data Cleaning"
   ]
  },
  {
   "cell_type": "code",
   "execution_count": null,
   "metadata": {
    "colab": {},
    "colab_type": "code",
    "id": "QS9xxcwGVFqN"
   },
   "outputs": [],
   "source": [
    "train_df.info()"
   ]
  },
  {
   "cell_type": "code",
   "execution_count": null,
   "metadata": {
    "colab": {},
    "colab_type": "code",
    "id": "KJlGQMriVFqe"
   },
   "outputs": [],
   "source": [
    "train_df.shape"
   ]
  },
  {
   "cell_type": "code",
   "execution_count": null,
   "metadata": {
    "colab": {},
    "colab_type": "code",
    "id": "HFVWEQzHVFqn",
    "scrolled": false
   },
   "outputs": [],
   "source": [
    "train_df.head()"
   ]
  },
  {
   "cell_type": "markdown",
   "metadata": {
    "colab_type": "text",
    "id": "pIC6EXoxVFqs"
   },
   "source": [
    "## Plot Country Wise data"
   ]
  },
  {
   "cell_type": "code",
   "execution_count": null,
   "metadata": {
    "colab": {},
    "colab_type": "code",
    "id": "xOZRbSbVVFqs",
    "scrolled": true
   },
   "outputs": [],
   "source": [
    "wn_country = train_df.groupby(['country']).count()[[\"province\"]].apply(lambda x : 100*x/x.sum())\n",
    "wn_country.head()"
   ]
  },
  {
   "cell_type": "code",
   "execution_count": null,
   "metadata": {
    "colab": {},
    "colab_type": "code",
    "id": "97BZcWKgVFqx"
   },
   "outputs": [],
   "source": [
    "#Plot Normalized Data\n",
    "\n",
    "wn_country.plot(kind='bar')\n"
   ]
  },
  {
   "cell_type": "markdown",
   "metadata": {
    "colab_type": "text",
    "id": "DzHhbw0JsniR"
   },
   "source": [
    "## Classification based on prices by country"
   ]
  },
  {
   "cell_type": "code",
   "execution_count": null,
   "metadata": {
    "colab": {},
    "colab_type": "code",
    "id": "LEWAOl93sniS"
   },
   "outputs": [],
   "source": [
    "mx=train_df.iloc[train_df[\"price\"].idxmax(),1]\n",
    "mn=train_df.iloc[train_df[\"price\"].idxmin(),1]\n",
    "print(\"Cheapest wines is sold  in \\\"{}\\\" - {:g}.\\n\".format(mn,min(train_df[\"price\"])))\n",
    "print(\"Costliest wines is sold  in \\\"{}\\\" - {:g}.\\n\".format(mx,max(train_df[\"price\"])))"
   ]
  },
  {
   "cell_type": "code",
   "execution_count": null,
   "metadata": {
    "colab": {},
    "colab_type": "code",
    "id": "otsFLzh8s-XI"
   },
   "outputs": [],
   "source": []
  },
  {
   "cell_type": "code",
   "execution_count": null,
   "metadata": {
    "colab": {},
    "colab_type": "code",
    "id": "NyoyLi9isniX"
   },
   "outputs": [],
   "source": [
    "\n",
    "price_df = train_df.groupby(['country']).mean()[[\"price\"]]\n",
    "max_price=price_df[\"price\"].idxmax()\n",
    "min_price=price_df[\"price\"].idxmin()\n",
    "print(\"Cheaper wines are sold (On Average) in \\\"{}\\\" - {:g}$.\\n\".format(min_price,min(price_df[\"price\"])))\n",
    "print(\"Costlier wines are sold (On Average) in \\\"{}\\\" - {:g}$.\\n\".format(max_price,max(price_df[\"price\"])))"
   ]
  },
  {
   "cell_type": "code",
   "execution_count": null,
   "metadata": {
    "colab": {},
    "colab_type": "code",
    "id": "TvsplXLAtCOW"
   },
   "outputs": [],
   "source": [
    "price_df.plot(kind=\"bar\",color=\"orange\")"
   ]
  },
  {
   "cell_type": "code",
   "execution_count": null,
   "metadata": {
    "colab": {},
    "colab_type": "code",
    "id": "tcwZ4BK5snic"
   },
   "outputs": [],
   "source": [
    "## Ratings by Country"
   ]
  },
  {
   "cell_type": "code",
   "execution_count": null,
   "metadata": {
    "colab": {},
    "colab_type": "code",
    "id": "dLFtglP5snij"
   },
   "outputs": [],
   "source": [
    "\n",
    "rating_df = train_df.groupby(['country']).mean()[[\"points\"]]\n",
    "max_rate=rating_df[\"points\"].idxmax()\n",
    "min_rate=rating_df[\"points\"].idxmin()\n",
    "print(\"Bad ratings are given (On Average) in \\\"{}\\\" - {:g}.\\n\".format(min_rate,min(rating_df[\"points\"])))\n",
    "print(\"Good ratings are given (On Average) in \\\"{}\\\" - {:g}.\\n\".format(max_rate,max(rating_df[\"points\"])))"
   ]
  },
  {
   "cell_type": "code",
   "execution_count": null,
   "metadata": {
    "colab": {},
    "colab_type": "code",
    "id": "Gh_j-IThsnin"
   },
   "outputs": [],
   "source": [
    "rating_df.plot()"
   ]
  },
  {
   "cell_type": "markdown",
   "metadata": {
    "colab_type": "text",
    "id": "rWD_HIDlVFq1"
   },
   "source": [
    "## Most Common Winery"
   ]
  },
  {
   "cell_type": "code",
   "execution_count": null,
   "metadata": {
    "colab": {},
    "colab_type": "code",
    "id": "2PDApkzzVFq2"
   },
   "outputs": [],
   "source": [
    "#Function to get the most common item\n",
    "\n",
    "def get_most_common_item(df):\n",
    "    c=Counter(df)\n",
    "    return c.most_common()"
   ]
  },
  {
   "cell_type": "code",
   "execution_count": null,
   "metadata": {
    "colab": {},
    "colab_type": "code",
    "id": "LTVgk4F6VFq5"
   },
   "outputs": [],
   "source": [
    "cw=get_most_common_item(train_df[\"winery\"])\n",
    "print(\"Most wine trade is from \\\"{}\\\" with a count of {}.\\n\".format(cw[0][0],cw[0][1]))"
   ]
  },
  {
   "cell_type": "code",
   "execution_count": null,
   "metadata": {
    "colab": {},
    "colab_type": "code",
    "id": "Mck8-k7AVFq9"
   },
   "outputs": [],
   "source": [
    "items_by_winery = train_df.groupby(['country'])[['winery']].count().apply(lambda x : 100*x/x.sum())\n",
    "items_by_winery.head()"
   ]
  },
  {
   "cell_type": "code",
   "execution_count": null,
   "metadata": {
    "colab": {},
    "colab_type": "code",
    "id": "JF-nFsinVFrA"
   },
   "outputs": [],
   "source": [
    "plt.xticks(rotation=90)\n",
    "plt.xlabel(\"Country\")\n",
    "plt.ylabel(\"Winery Count\")\n",
    "plt.plot(items_by_winery)"
   ]
  },
  {
   "cell_type": "markdown",
   "metadata": {
    "colab_type": "text",
    "id": "K0jc2l61VFrE"
   },
   "source": [
    "## Insights\n",
    "- From the above plot we can say that US has higest number of winerys"
   ]
  },
  {
   "cell_type": "code",
   "execution_count": null,
   "metadata": {
    "colab": {},
    "colab_type": "code",
    "id": "veA1k6fbVFrF"
   },
   "outputs": [],
   "source": [
    "vc=get_most_common_item(train_df[\"variety\"])\n",
    "print(\"Most wine trade is from \\\"{}\\\" with a count of {}.\\n\".format(vc[0][0],vc[0][1]))"
   ]
  },
  {
   "cell_type": "code",
   "execution_count": null,
   "metadata": {
    "colab": {},
    "colab_type": "code",
    "id": "7YGCu4h3VFrI"
   },
   "outputs": [],
   "source": [
    "items_by_variety = train_df.groupby(['country'])[['variety']].size()\n",
    "items_by_variety.head()"
   ]
  },
  {
   "cell_type": "code",
   "execution_count": null,
   "metadata": {
    "colab": {},
    "colab_type": "code",
    "id": "Fs7_Ix9WVFrM"
   },
   "outputs": [],
   "source": [
    "#Plots\n",
    "plt.xticks(rotation=90)\n",
    "plt.xlabel(\"Country\")\n",
    "plt.ylabel(\"Variety Count\")\n",
    "plt.plot(items_by_variety)"
   ]
  },
  {
   "cell_type": "markdown",
   "metadata": {
    "colab_type": "text",
    "id": "ClgN1F35VFrP"
   },
   "source": [
    "## Insights\n",
    "- It is sure that the country with highest number of winerys has more number of varieties than others.\n",
    "- US has large amount of varieties of wines."
   ]
  },
  {
   "cell_type": "markdown",
   "metadata": {
    "colab_type": "text",
    "id": "zljMGB5qVFrQ"
   },
   "source": [
    "## Plot on No of provinces in each country."
   ]
  },
  {
   "cell_type": "code",
   "execution_count": null,
   "metadata": {
    "colab": {},
    "colab_type": "code",
    "id": "8051m0gTVFrQ",
    "scrolled": true
   },
   "outputs": [],
   "source": [
    "\n",
    "items_by_c=train_df.groupby(['country','province'])['variety'].unique()\n",
    "tst=items_by_c.index\n",
    "location_cluster={}\n",
    "for i in tst:\n",
    "    if(i[0]) in location_cluster:\n",
    "        \n",
    "        location_cluster[i[0]]+=1\n",
    "    else:\n",
    "        location_cluster[i[0]]=1\n",
    "        \n",
    "plt.bar(location_cluster.keys(), location_cluster.values(), color='g')\n",
    "plt.xticks(rotation=90)\n",
    "plt.show()"
   ]
  },
  {
   "cell_type": "markdown",
   "metadata": {
    "colab_type": "text",
    "id": "QpM14HeaVFrT"
   },
   "source": [
    "## No of Varieties classification based on country"
   ]
  },
  {
   "cell_type": "code",
   "execution_count": null,
   "metadata": {
    "colab": {},
    "colab_type": "code",
    "id": "QFPXeuN4VFrU",
    "scrolled": true
   },
   "outputs": [],
   "source": [
    "items_by_v=train_df.groupby(['country'])['variety'].count()\n",
    "items_by_v.head()"
   ]
  },
  {
   "cell_type": "code",
   "execution_count": null,
   "metadata": {
    "colab": {},
    "colab_type": "code",
    "id": "E1bXXbbpVFrZ"
   },
   "outputs": [],
   "source": [
    "cnt=1\n",
    "var_cnt=[]\n",
    "for i in items_by_v.index:\n",
    "    var_cnt.append(i)\n",
    "    cnt+=2\n",
    "x = var_cnt\n",
    "y = [0]*len(x)\n",
    "n=len(y)\n",
    "s = [i/n for i in items_by_v]\n",
    "plt.scatter(x,y,s=s,color='r')\n",
    "plt.xticks(rotation=90)\n",
    "plt.show()"
   ]
  },
  {
   "cell_type": "markdown",
   "metadata": {
    "colab_type": "text",
    "id": "mQWLundzVFre"
   },
   "source": [
    "- Plot which shows the total number of varieties by country.\n",
    "- Larger the size of circle, more no of varieties in that country"
   ]
  },
  {
   "cell_type": "markdown",
   "metadata": {
    "colab_type": "text",
    "id": "JfKQpC84VFrf"
   },
   "source": [
    "## Drop the columns which are not necesssary"
   ]
  },
  {
   "cell_type": "code",
   "execution_count": null,
   "metadata": {
    "colab": {},
    "colab_type": "code",
    "id": "uykP4kJ1VFrf"
   },
   "outputs": [],
   "source": [
    "train_df.columns"
   ]
  },
  {
   "cell_type": "code",
   "execution_count": 26,
   "metadata": {
    "colab": {},
    "colab_type": "code",
    "id": "EK9zL8PcVFrj"
   },
   "outputs": [],
   "source": [
    "def drop_cols(df,cols):\n",
    "    return df.drop(columns=cols)"
   ]
  },
  {
   "cell_type": "code",
   "execution_count": null,
   "metadata": {
    "colab": {},
    "colab_type": "code",
    "id": "KkFuDOT9VFrm"
   },
   "outputs": [],
   "source": [
    "#Remove the Unnecessary data_columns\n",
    "cleaned_df=drop_cols(train_df,[\"designation\",\"review_title\",\"user_name\",\"region_2\",\"country\",\"region_1\",\"province\"])"
   ]
  },
  {
   "cell_type": "markdown",
   "metadata": {
    "colab_type": "text",
    "id": "DwyAqu5GVFro"
   },
   "source": [
    "## Dealing with null values"
   ]
  },
  {
   "cell_type": "code",
   "execution_count": null,
   "metadata": {
    "colab": {},
    "colab_type": "code",
    "id": "qVyyUB_IVFrp",
    "scrolled": true
   },
   "outputs": [],
   "source": [
    "cleaned_df.isnull().sum()"
   ]
  },
  {
   "cell_type": "markdown",
   "metadata": {
    "colab_type": "text",
    "id": "Omge1m_zVFrs"
   },
   "source": [
    "- As we have null values in price columnwe impute that particluar column"
   ]
  },
  {
   "cell_type": "code",
   "execution_count": null,
   "metadata": {
    "colab": {},
    "colab_type": "code",
    "id": "cxTnPZvIVFrt"
   },
   "outputs": [],
   "source": [
    "def impute(df):\n",
    "    x=df.values\n",
    "    x=x.reshape(-1,1)\n",
    "    imp=SimpleImputer(strategy='mean')\n",
    "    imp.fit(x)\n",
    "    return (imp.transform(x))"
   ]
  },
  {
   "cell_type": "code",
   "execution_count": null,
   "metadata": {
    "colab": {},
    "colab_type": "code",
    "id": "NgMpf9YEVFrv"
   },
   "outputs": [],
   "source": [
    "price1=impute(cleaned_df['price'])\n",
    "cleaned_df=drop_cols(cleaned_df,[\"price\"])\n",
    "cleaned_df['price']=price1"
   ]
  },
  {
   "cell_type": "code",
   "execution_count": null,
   "metadata": {
    "colab": {},
    "colab_type": "code",
    "id": "ZxgsMBd_VFrz",
    "scrolled": true
   },
   "outputs": [],
   "source": [
    "cleaned_df.isnull().sum()"
   ]
  },
  {
   "cell_type": "markdown",
   "metadata": {
    "colab_type": "text",
    "id": "OVcF22EnVFr6"
   },
   "source": [
    "## Review Description\n",
    "- we apply sentiment analysis to the reviews.\n",
    "- we take the polarity value and replace with text."
   ]
  },
  {
   "cell_type": "code",
   "execution_count": null,
   "metadata": {
    "colab": {},
    "colab_type": "code",
    "id": "xKhiqLyOVFr-"
   },
   "outputs": [],
   "source": [
    "# Apply a first round of text cleaning techniques\n",
    "#make All text to lowecase,remove numericals\n",
    "def clean_review(text):\n",
    "    text = text.lower()\n",
    "    text = re.sub('\\[.*?\\]', '', text)\n",
    "    text = re.sub('[%s]' % re.escape(string.punctuation), '', text)\n",
    "    text = re.sub('\\w*\\d\\w*', '', text)\n",
    "    return text"
   ]
  },
  {
   "cell_type": "code",
   "execution_count": null,
   "metadata": {
    "colab": {},
    "colab_type": "code",
    "id": "BckLZPHIVFsG"
   },
   "outputs": [],
   "source": [
    "def text_processing(cleaned_df):\n",
    "    #Apply Clean review function\n",
    "    review=cleaned_df['review_description'].apply(clean_review)\n",
    "    pol = lambda x: TextBlob(x).sentiment.polarity \n",
    "    cleaned_df['review_description']=cleaned_df['review_description'].apply(pol)\n",
    "    scale=lambda x: x*100\n",
    "    cleaned_df['review_description']=cleaned_df['review_description'].apply(scale)\n",
    "    return cleaned_df"
   ]
  },
  {
   "cell_type": "markdown",
   "metadata": {
    "colab_type": "text",
    "id": "NiKBehJ2snkX"
   },
   "source": [
    "- Adding a condition not to take time, as the data upto text_processing is stored txt_df.pkl file\n",
    "- So Instead of compiling the code again we use the files saved."
   ]
  },
  {
   "cell_type": "code",
   "execution_count": null,
   "metadata": {
    "colab": {},
    "colab_type": "code",
    "id": "DKsf0bUGVFsL"
   },
   "outputs": [],
   "source": [
    "\n",
    "if(\"Ztrain_txt_df.pkl\" not in find_files()):\n",
    "    df_text=text_processing(cleaned_df)\n",
    "    df_text.head()"
   ]
  },
  {
   "cell_type": "code",
   "execution_count": null,
   "metadata": {
    "colab": {},
    "colab_type": "code",
    "id": "gyndosmvVFsR"
   },
   "outputs": [],
   "source": [
    "df_text.to_pickle('Ztrain_txt_df.pkl')"
   ]
  },
  {
   "cell_type": "code",
   "execution_count": 24,
   "metadata": {
    "colab": {
     "base_uri": "https://localhost:8080/",
     "height": 204
    },
    "colab_type": "code",
    "id": "vo-Ys3-BVFsV",
    "outputId": "c26b54e4-6f21-4fe2-ad72-841c101f2657",
    "scrolled": true
   },
   "outputs": [
    {
     "data": {
      "text/html": [
       "<div>\n",
       "<style scoped>\n",
       "    .dataframe tbody tr th:only-of-type {\n",
       "        vertical-align: middle;\n",
       "    }\n",
       "\n",
       "    .dataframe tbody tr th {\n",
       "        vertical-align: top;\n",
       "    }\n",
       "\n",
       "    .dataframe thead th {\n",
       "        text-align: right;\n",
       "    }\n",
       "</style>\n",
       "<table border=\"1\" class=\"dataframe\">\n",
       "  <thead>\n",
       "    <tr style=\"text-align: right;\">\n",
       "      <th></th>\n",
       "      <th>review_description</th>\n",
       "      <th>points</th>\n",
       "      <th>winery</th>\n",
       "      <th>variety</th>\n",
       "      <th>price</th>\n",
       "    </tr>\n",
       "  </thead>\n",
       "  <tbody>\n",
       "    <tr>\n",
       "      <th>0</th>\n",
       "      <td>10.833333</td>\n",
       "      <td>83</td>\n",
       "      <td>Andrew Peace</td>\n",
       "      <td>Chardonnay</td>\n",
       "      <td>10.0</td>\n",
       "    </tr>\n",
       "    <tr>\n",
       "      <th>1</th>\n",
       "      <td>-5.833333</td>\n",
       "      <td>89</td>\n",
       "      <td>North by Northwest</td>\n",
       "      <td>Red Blend</td>\n",
       "      <td>15.0</td>\n",
       "    </tr>\n",
       "    <tr>\n",
       "      <th>2</th>\n",
       "      <td>-20.416667</td>\n",
       "      <td>94</td>\n",
       "      <td>Renato Ratti</td>\n",
       "      <td>Nebbiolo</td>\n",
       "      <td>80.0</td>\n",
       "    </tr>\n",
       "    <tr>\n",
       "      <th>3</th>\n",
       "      <td>41.666667</td>\n",
       "      <td>87</td>\n",
       "      <td>Domaine l'Ancienne Cure</td>\n",
       "      <td>Bordeaux-style White Blend</td>\n",
       "      <td>22.0</td>\n",
       "    </tr>\n",
       "    <tr>\n",
       "      <th>4</th>\n",
       "      <td>26.547619</td>\n",
       "      <td>88</td>\n",
       "      <td>Château du Cèdre</td>\n",
       "      <td>Malbec</td>\n",
       "      <td>33.0</td>\n",
       "    </tr>\n",
       "  </tbody>\n",
       "</table>\n",
       "</div>"
      ],
      "text/plain": [
       "   review_description  points                   winery  \\\n",
       "0           10.833333      83             Andrew Peace   \n",
       "1           -5.833333      89       North by Northwest   \n",
       "2          -20.416667      94             Renato Ratti   \n",
       "3           41.666667      87  Domaine l'Ancienne Cure   \n",
       "4           26.547619      88         Château du Cèdre   \n",
       "\n",
       "                      variety  price  \n",
       "0                  Chardonnay   10.0  \n",
       "1                   Red Blend   15.0  \n",
       "2                    Nebbiolo   80.0  \n",
       "3  Bordeaux-style White Blend   22.0  \n",
       "4                      Malbec   33.0  "
      ]
     },
     "execution_count": 24,
     "metadata": {},
     "output_type": "execute_result"
    }
   ],
   "source": [
    "df_text=pd.read_pickle('Ztrain_txt_df.pkl')\n",
    "df_text.head()"
   ]
  },
  {
   "cell_type": "code",
   "execution_count": 27,
   "metadata": {
    "colab": {},
    "colab_type": "code",
    "id": "fVPTcki2VFsw"
   },
   "outputs": [],
   "source": [
    "y_train=df_text['variety']\n",
    "df_text=drop_cols(df_text,'variety')"
   ]
  },
  {
   "cell_type": "markdown",
   "metadata": {
    "colab_type": "text",
    "id": "E12N-3byVFsz"
   },
   "source": [
    "## Dealing with Categorical Data"
   ]
  },
  {
   "cell_type": "markdown",
   "metadata": {
    "colab_type": "text",
    "id": "yAgmY70RW4nJ"
   },
   "source": [
    "## Encoding the target- variety column\n",
    "\n",
    "\n"
   ]
  },
  {
   "cell_type": "code",
   "execution_count": 18,
   "metadata": {
    "colab": {},
    "colab_type": "code",
    "id": "qpixg10av3z6"
   },
   "outputs": [],
   "source": []
  },
  {
   "cell_type": "code",
   "execution_count": null,
   "metadata": {},
   "outputs": [],
   "source": []
  },
  {
   "cell_type": "code",
   "execution_count": 28,
   "metadata": {
    "colab": {
     "base_uri": "https://localhost:8080/",
     "height": 34
    },
    "colab_type": "code",
    "id": "0-kQv91hVFsz",
    "outputId": "f9d84fd9-31d4-49b6-f318-6837826300d0",
    "scrolled": true
   },
   "outputs": [
    {
     "data": {
      "text/plain": [
       "array([ 5, 17, 11, ...,  6,  0,  3])"
      ]
     },
     "execution_count": 28,
     "metadata": {},
     "output_type": "execute_result"
    }
   ],
   "source": [
    "lbl=LabelEncoder()\n",
    "y_train=lbl.fit_transform(y_train)\n",
    "y_train"
   ]
  },
  {
   "cell_type": "markdown",
   "metadata": {
    "colab_type": "text",
    "id": "y-wWw4Y9Wubp"
   },
   "source": [
    "## Encoding Winery data"
   ]
  },
  {
   "cell_type": "code",
   "execution_count": null,
   "metadata": {
    "colab": {},
    "colab_type": "code",
    "id": "HSymwXlfVFs2"
   },
   "outputs": [],
   "source": [
    "wine=df_text['winery']\n",
    "wine=wine.to_numpy()"
   ]
  },
  {
   "cell_type": "code",
   "execution_count": null,
   "metadata": {
    "colab": {},
    "colab_type": "code",
    "id": "uvxPBI0jsnk5",
    "scrolled": false
   },
   "outputs": [],
   "source": [
    "df_text.columns"
   ]
  },
  {
   "cell_type": "markdown",
   "metadata": {
    "colab_type": "text",
    "id": "ft0udYnPsnlA"
   },
   "source": [
    "  \n",
    "  ## Formula used\n",
    "  \n",
    "  -  \\begin{equation*} probabilty =  \\frac {sum \\ of\\ the\\ items}{total\\ items} \\end{equation*}"
   ]
  },
  {
   "cell_type": "code",
   "execution_count": null,
   "metadata": {
    "colab": {},
    "colab_type": "code",
    "id": "N48pg64GsnlB"
   },
   "outputs": [],
   "source": [
    "#Function to calculate basic probability\n",
    "def cal_proba(X):\n",
    "    cnts={}\n",
    "    for key in X:\n",
    "        if key in cnts:\n",
    "            cnts[key]+=1\n",
    "        else:\n",
    "            cnts[key]=1\n",
    "    lnth=X.shape[0]\n",
    "    \n",
    "    for i in cnts:\n",
    "        cnts[i]=cnts[i]/lnth\n",
    "    return cnts"
   ]
  },
  {
   "cell_type": "code",
   "execution_count": null,
   "metadata": {
    "colab": {},
    "colab_type": "code",
    "id": "YHVF_W5bsnlJ"
   },
   "outputs": [],
   "source": [
    "#Replace the values with probabiites to calculate the coreclarion between price\n",
    "mps=cal_proba(wine)\n",
    "df_text[\"winery\"]=df_text[\"winery\"].map(mps)\n",
    "df_text.head()"
   ]
  },
  {
   "cell_type": "code",
   "execution_count": null,
   "metadata": {
    "colab": {},
    "colab_type": "code",
    "id": "1YJi4bVBsnlQ"
   },
   "outputs": [],
   "source": [
    "sample=df_text.loc[:,['winery', 'price']]\n",
    "sample.head()"
   ]
  },
  {
   "cell_type": "code",
   "execution_count": null,
   "metadata": {
    "colab": {},
    "colab_type": "code",
    "id": "JtnwPBPNVFs5",
    "scrolled": true
   },
   "outputs": [],
   "source": [
    "sample.corr() "
   ]
  },
  {
   "cell_type": "code",
   "execution_count": null,
   "metadata": {
    "colab": {},
    "colab_type": "code",
    "id": "Tm_hE8bbVFtU"
   },
   "outputs": [],
   "source": [
    "df_text.to_pickle(\"Zdf_text2.pkl\")"
   ]
  },
  {
   "cell_type": "markdown",
   "metadata": {
    "colab_type": "text",
    "id": "H9qmPl_Jsnlm"
   },
   "source": [
    "## Cleaning The testData"
   ]
  },
  {
   "cell_type": "code",
   "execution_count": null,
   "metadata": {
    "colab": {},
    "colab_type": "code",
    "id": "xk__NUjksnln",
    "scrolled": true
   },
   "outputs": [],
   "source": [
    "test_df.head()"
   ]
  },
  {
   "cell_type": "code",
   "execution_count": null,
   "metadata": {
    "colab": {},
    "colab_type": "code",
    "id": "v7NTqTHksnlq",
    "scrolled": true
   },
   "outputs": [],
   "source": [
    "clean_tst=drop_cols(test_df,[\"designation\",\"review_title\",\"user_name\",\"region_2\",\"country\",\"region_1\",\"province\"])\n",
    "clean_tst.head()"
   ]
  },
  {
   "cell_type": "code",
   "execution_count": null,
   "metadata": {
    "colab": {},
    "colab_type": "code",
    "id": "6btYiFjBsnlw"
   },
   "outputs": [],
   "source": [
    "if(\"Ztest_df.pkl\" not in find_files()):\n",
    "    df_test=text_processing(clean_tst)\n",
    "    df_test.head()"
   ]
  },
  {
   "cell_type": "code",
   "execution_count": null,
   "metadata": {
    "colab": {},
    "colab_type": "code",
    "id": "yLDrevjusnl4"
   },
   "outputs": [],
   "source": [
    "df_test.to_pickle(\"Ztest_df.pkl\")"
   ]
  },
  {
   "cell_type": "code",
   "execution_count": null,
   "metadata": {
    "colab": {
     "base_uri": "https://localhost:8080/",
     "height": 204
    },
    "colab_type": "code",
    "id": "-AyUgqFSsnl_",
    "outputId": "f0da5f49-ca7c-4ef3-fd28-561f2b696806"
   },
   "outputs": [],
   "source": [
    "df_test=pd.read_pickle('Ztest_df.pkl')\n",
    "df_test.head()"
   ]
  },
  {
   "cell_type": "code",
   "execution_count": null,
   "metadata": {
    "colab": {},
    "colab_type": "code",
    "id": "4q_P6v8ksnmK"
   },
   "outputs": [],
   "source": [
    "tst_wine=df_test['winery']\n",
    "tst_wine=tst_wine.to_numpy()"
   ]
  },
  {
   "cell_type": "code",
   "execution_count": null,
   "metadata": {
    "colab": {},
    "colab_type": "code",
    "id": "YlP2aMzRsnmW",
    "scrolled": true
   },
   "outputs": [],
   "source": [
    "#Replace the values with probabiites to calculate the coreclarion between price\n",
    "mps2=cal_proba(tst_wine)\n",
    "df_test[\"winery\"]=df_test[\"winery\"].map(mps2)\n",
    "df_test.head()"
   ]
  },
  {
   "cell_type": "code",
   "execution_count": null,
   "metadata": {
    "colab": {},
    "colab_type": "code",
    "id": "6RBdyWX7snmf"
   },
   "outputs": [],
   "source": [
    "## Saving cleaned to test file"
   ]
  },
  {
   "cell_type": "code",
   "execution_count": null,
   "metadata": {
    "colab": {
     "base_uri": "https://localhost:8080/",
     "height": 102
    },
    "colab_type": "code",
    "id": "_hbYC-3lSNnz",
    "outputId": "b32be2ad-5c9a-4843-fa41-627324b6c4ac"
   },
   "outputs": [],
   "source": [
    "df_test.isnull().sum()"
   ]
  },
  {
   "cell_type": "code",
   "execution_count": null,
   "metadata": {
    "colab": {},
    "colab_type": "code",
    "id": "vpIW4BodSKL0"
   },
   "outputs": [],
   "source": []
  },
  {
   "cell_type": "code",
   "execution_count": null,
   "metadata": {
    "colab": {
     "base_uri": "https://localhost:8080/",
     "height": 204
    },
    "colab_type": "code",
    "id": "fKP0bx2TSux6",
    "outputId": "d4f8abc0-c96a-4d51-a856-57ffc0f00898"
   },
   "outputs": [],
   "source": [
    "df_test['price']=impute(df_test['price'])\n",
    "df_test.head()"
   ]
  },
  {
   "cell_type": "code",
   "execution_count": null,
   "metadata": {
    "colab": {
     "base_uri": "https://localhost:8080/",
     "height": 102
    },
    "colab_type": "code",
    "id": "_ZFrM21_Sugo",
    "outputId": "c2830a95-ed19-46f8-871e-4d4e64c27d81"
   },
   "outputs": [],
   "source": [
    "df_test.isnull().sum()"
   ]
  },
  {
   "cell_type": "code",
   "execution_count": null,
   "metadata": {
    "colab": {},
    "colab_type": "code",
    "id": "gcHX7u-Xsnmk"
   },
   "outputs": [],
   "source": [
    "df_test.to_pickle(\"Ztst_text2.pkl\")"
   ]
  },
  {
   "cell_type": "code",
   "execution_count": 29,
   "metadata": {
    "colab": {
     "base_uri": "https://localhost:8080/",
     "height": 204
    },
    "colab_type": "code",
    "id": "GY1bD_dnsnmt",
    "outputId": "ef2551e6-e44b-4afd-a72a-294aa7e5e27a"
   },
   "outputs": [
    {
     "data": {
      "text/html": [
       "<div>\n",
       "<style scoped>\n",
       "    .dataframe tbody tr th:only-of-type {\n",
       "        vertical-align: middle;\n",
       "    }\n",
       "\n",
       "    .dataframe tbody tr th {\n",
       "        vertical-align: top;\n",
       "    }\n",
       "\n",
       "    .dataframe thead th {\n",
       "        text-align: right;\n",
       "    }\n",
       "</style>\n",
       "<table border=\"1\" class=\"dataframe\">\n",
       "  <thead>\n",
       "    <tr style=\"text-align: right;\">\n",
       "      <th></th>\n",
       "      <th>review_description</th>\n",
       "      <th>points</th>\n",
       "      <th>price</th>\n",
       "      <th>winery</th>\n",
       "    </tr>\n",
       "  </thead>\n",
       "  <tbody>\n",
       "    <tr>\n",
       "      <th>0</th>\n",
       "      <td>24.910714</td>\n",
       "      <td>88</td>\n",
       "      <td>35.0</td>\n",
       "      <td>0.000242</td>\n",
       "    </tr>\n",
       "    <tr>\n",
       "      <th>1</th>\n",
       "      <td>50.000000</td>\n",
       "      <td>90</td>\n",
       "      <td>60.0</td>\n",
       "      <td>0.000145</td>\n",
       "    </tr>\n",
       "    <tr>\n",
       "      <th>2</th>\n",
       "      <td>8.437500</td>\n",
       "      <td>87</td>\n",
       "      <td>38.0</td>\n",
       "      <td>0.000145</td>\n",
       "    </tr>\n",
       "    <tr>\n",
       "      <th>3</th>\n",
       "      <td>10.416667</td>\n",
       "      <td>91</td>\n",
       "      <td>20.0</td>\n",
       "      <td>0.000097</td>\n",
       "    </tr>\n",
       "    <tr>\n",
       "      <th>4</th>\n",
       "      <td>-4.166667</td>\n",
       "      <td>90</td>\n",
       "      <td>49.0</td>\n",
       "      <td>0.000097</td>\n",
       "    </tr>\n",
       "  </tbody>\n",
       "</table>\n",
       "</div>"
      ],
      "text/plain": [
       "   review_description  points  price    winery\n",
       "0           24.910714      88   35.0  0.000242\n",
       "1           50.000000      90   60.0  0.000145\n",
       "2            8.437500      87   38.0  0.000145\n",
       "3           10.416667      91   20.0  0.000097\n",
       "4           -4.166667      90   49.0  0.000097"
      ]
     },
     "execution_count": 29,
     "metadata": {},
     "output_type": "execute_result"
    }
   ],
   "source": [
    "#TEST DATA\n",
    "df_test=pd.read_pickle(\"Ztst_text2.pkl\")\n",
    "df_test.head()"
   ]
  },
  {
   "cell_type": "code",
   "execution_count": 30,
   "metadata": {
    "colab": {
     "base_uri": "https://localhost:8080/",
     "height": 204
    },
    "colab_type": "code",
    "id": "b6a_G3nLsnmz",
    "outputId": "6afedf59-9f85-4fc1-ad54-f4d4d53d59f0"
   },
   "outputs": [
    {
     "data": {
      "text/html": [
       "<div>\n",
       "<style scoped>\n",
       "    .dataframe tbody tr th:only-of-type {\n",
       "        vertical-align: middle;\n",
       "    }\n",
       "\n",
       "    .dataframe tbody tr th {\n",
       "        vertical-align: top;\n",
       "    }\n",
       "\n",
       "    .dataframe thead th {\n",
       "        text-align: right;\n",
       "    }\n",
       "</style>\n",
       "<table border=\"1\" class=\"dataframe\">\n",
       "  <thead>\n",
       "    <tr style=\"text-align: right;\">\n",
       "      <th></th>\n",
       "      <th>review_description</th>\n",
       "      <th>points</th>\n",
       "      <th>winery</th>\n",
       "      <th>price</th>\n",
       "    </tr>\n",
       "  </thead>\n",
       "  <tbody>\n",
       "    <tr>\n",
       "      <th>0</th>\n",
       "      <td>10.833333</td>\n",
       "      <td>83</td>\n",
       "      <td>0.000024</td>\n",
       "      <td>10.0</td>\n",
       "    </tr>\n",
       "    <tr>\n",
       "      <th>1</th>\n",
       "      <td>-5.833333</td>\n",
       "      <td>89</td>\n",
       "      <td>0.000230</td>\n",
       "      <td>15.0</td>\n",
       "    </tr>\n",
       "    <tr>\n",
       "      <th>2</th>\n",
       "      <td>-20.416667</td>\n",
       "      <td>94</td>\n",
       "      <td>0.000145</td>\n",
       "      <td>80.0</td>\n",
       "    </tr>\n",
       "    <tr>\n",
       "      <th>3</th>\n",
       "      <td>41.666667</td>\n",
       "      <td>87</td>\n",
       "      <td>0.000109</td>\n",
       "      <td>22.0</td>\n",
       "    </tr>\n",
       "    <tr>\n",
       "      <th>4</th>\n",
       "      <td>26.547619</td>\n",
       "      <td>88</td>\n",
       "      <td>0.000339</td>\n",
       "      <td>33.0</td>\n",
       "    </tr>\n",
       "  </tbody>\n",
       "</table>\n",
       "</div>"
      ],
      "text/plain": [
       "   review_description  points    winery  price\n",
       "0           10.833333      83  0.000024   10.0\n",
       "1           -5.833333      89  0.000230   15.0\n",
       "2          -20.416667      94  0.000145   80.0\n",
       "3           41.666667      87  0.000109   22.0\n",
       "4           26.547619      88  0.000339   33.0"
      ]
     },
     "execution_count": 30,
     "metadata": {},
     "output_type": "execute_result"
    }
   ],
   "source": [
    "#TRAIN DATA\n",
    "df_text=pd.read_pickle(\"Zdf_text2.pkl\")\n",
    "df_text.head()"
   ]
  },
  {
   "cell_type": "markdown",
   "metadata": {
    "colab_type": "text",
    "id": "Xl9oZbEzsnm8"
   },
   "source": [
    "## Training using SVM "
   ]
  },
  {
   "cell_type": "code",
   "execution_count": 7,
   "metadata": {
    "colab": {},
    "colab_type": "code",
    "id": "yKejyNQFsnm-"
   },
   "outputs": [],
   "source": [
    "#Scaling the data\n",
    "scale=StandardScaler()\n",
    "X_train=scale.fit_transform(df_text)\n",
    "X_test=scale.fit_transform(df_test)"
   ]
  },
  {
   "cell_type": "markdown",
   "metadata": {
    "colab_type": "text",
    "id": "nvB7kadQsnnI"
   },
   "source": [
    "## Hyper parameters to tune"
   ]
  },
  {
   "cell_type": "code",
   "execution_count": 8,
   "metadata": {
    "colab": {},
    "colab_type": "code",
    "id": "e3wMrpItsnnI"
   },
   "outputs": [],
   "source": [
    "params_grid = [{'kernel': ['rbf'], 'gamma': [1e-3, 1e-4],'C': [1, 10, 100, 1000]}]"
   ]
  },
  {
   "cell_type": "code",
   "execution_count": null,
   "metadata": {
    "colab": {},
    "colab_type": "code",
    "id": "YrGGXgNFsnnL"
   },
   "outputs": [],
   "source": [
    "mdl_name = \"Zmodel.pkl\""
   ]
  },
  {
   "cell_type": "code",
   "execution_count": null,
   "metadata": {
    "colab": {
     "base_uri": "https://localhost:8080/",
     "height": 221
    },
    "colab_type": "code",
    "id": "BySxCyv9VFtr",
    "outputId": "12148964-0fc1-4404-f8b1-bdfa7736ea25"
   },
   "outputs": [],
   "source": [
    "if mdl_name not in find_files():\n",
    "    print(\"Training Started......\\n\")\n",
    "    model=GridSearchCV(SVC(), params_grid, cv=5)\n",
    "    print(\".\\n.\\n.\")\n",
    "    model.fit(X_train, y_train)\n",
    "    print(\".\\n.\\n.\\n.\\n\")\n",
    "    print(\"Training Completed Succesfully\\n\")"
   ]
  },
  {
   "cell_type": "markdown",
   "metadata": {},
   "source": [
    "## Random Forest"
   ]
  },
  {
   "cell_type": "code",
   "execution_count": 9,
   "metadata": {},
   "outputs": [],
   "source": [
    "rfc=RandomForestClassifier(random_state=42)\n"
   ]
  },
  {
   "cell_type": "code",
   "execution_count": 10,
   "metadata": {},
   "outputs": [],
   "source": [
    "param_grid2 = { \n",
    "    'n_estimators': [200, 500],\n",
    "    'max_features': ['auto', 'sqrt', 'log2'],\n",
    "    'max_depth' : [4,5,6,7,8],\n",
    "    'criterion' :['gini', 'entropy']\n",
    "}"
   ]
  },
  {
   "cell_type": "code",
   "execution_count": 11,
   "metadata": {},
   "outputs": [],
   "source": [
    "mdl_name2 = \"Zmodel2.pkl\""
   ]
  },
  {
   "cell_type": "code",
   "execution_count": 32,
   "metadata": {},
   "outputs": [
    {
     "name": "stdout",
     "output_type": "stream",
     "text": [
      "Training Started......\n",
      "\n",
      ".\n",
      ".\n",
      ".\n",
      ".\n",
      ".\n",
      ".\n",
      ".\n",
      "\n",
      "Training Completed Succesfully\n",
      "\n"
     ]
    }
   ],
   "source": [
    "if mdl_name2 not in find_files():\n",
    "    print(\"Training Started......\\n\")\n",
    "    model2=GridSearchCV(rfc, param_grid2, cv=5)\n",
    "    print(\".\\n.\\n.\")\n",
    "    model2.fit(X_train, y_train)\n",
    "    print(\".\\n.\\n.\\n.\\n\")\n",
    "    print(\"Training Completed Succesfully\\n\")"
   ]
  },
  {
   "cell_type": "code",
   "execution_count": null,
   "metadata": {},
   "outputs": [],
   "source": []
  },
  {
   "cell_type": "code",
   "execution_count": null,
   "metadata": {},
   "outputs": [],
   "source": []
  },
  {
   "cell_type": "markdown",
   "metadata": {
    "colab_type": "text",
    "id": "ltH3esdesnnR"
   },
   "source": [
    "## Save Model into a file\n",
    "- As I have stored into a file, we don't train it again.\n",
    "- We add the condition and open the saved model"
   ]
  },
  {
   "cell_type": "code",
   "execution_count": null,
   "metadata": {
    "colab": {},
    "colab_type": "code",
    "id": "t2NsYz2msnnS"
   },
   "outputs": [],
   "source": [
    "\n",
    "#if mdl_name not in find_files():\n",
    "with open(mdl_name, 'wb') as file:  \n",
    "    pickle.dump(model, file)\n",
    "    \n"
   ]
  },
  {
   "cell_type": "code",
   "execution_count": 33,
   "metadata": {},
   "outputs": [],
   "source": [
    "with open(mdl_name2, 'wb') as file:  \n",
    "    pickle.dump(model2, file)"
   ]
  },
  {
   "cell_type": "code",
   "execution_count": null,
   "metadata": {},
   "outputs": [],
   "source": [
    "## Gradient boosting"
   ]
  },
  {
   "cell_type": "code",
   "execution_count": 34,
   "metadata": {},
   "outputs": [],
   "source": [
    "mdl_name3 = \"Zmodel3.pkl\""
   ]
  },
  {
   "cell_type": "code",
   "execution_count": 37,
   "metadata": {},
   "outputs": [],
   "source": [
    "param_grid3 = {\n",
    "    \"loss\":[\"deviance\"],\n",
    "    \"learning_rate\": [0.01, 0.025, 0.05, 0.075, 0.1, 0.15, 0.2],\n",
    "    \"min_samples_split\": np.linspace(0.1, 0.5, 12),\n",
    "    \"min_samples_leaf\": np.linspace(0.1, 0.5, 12),\n",
    "    \"max_depth\":[3,5,8],\n",
    "    \"max_features\":[\"log2\",\"sqrt\"],\n",
    "    \"criterion\": [\"friedman_mse\",  \"mae\"],\n",
    "    \"subsample\":[0.5, 0.618, 0.8, 0.85, 0.9, 0.95, 1.0],\n",
    "    \"n_estimators\":[10]\n",
    "    }"
   ]
  },
  {
   "cell_type": "code",
   "execution_count": 38,
   "metadata": {},
   "outputs": [],
   "source": [
    "gdbc=GradientBoostingClassifier(random_state=42)"
   ]
  },
  {
   "cell_type": "code",
   "execution_count": null,
   "metadata": {},
   "outputs": [
    {
     "name": "stdout",
     "output_type": "stream",
     "text": [
      "Training Started......\n",
      "\n",
      ".\n",
      ".\n",
      ".\n"
     ]
    }
   ],
   "source": [
    "if mdl_name3 not in find_files():\n",
    "    print(\"Training Started......\\n\")\n",
    "    model3=GridSearchCV(gdbc, param_grid3, cv=5)\n",
    "    print(\".\\n.\\n.\")\n",
    "    model3.fit(X_train, y_train)\n",
    "    print(\".\\n.\\n.\\n.\\n\")\n",
    "    print(\"Training Completed Succesfully\\n\")"
   ]
  },
  {
   "cell_type": "code",
   "execution_count": null,
   "metadata": {},
   "outputs": [],
   "source": [
    "with open(mdl_name3, 'wb') as file:  \n",
    "    pickle.dump(model3, file)"
   ]
  },
  {
   "cell_type": "markdown",
   "metadata": {
    "colab_type": "text",
    "id": "w0SiuOeYsnnV"
   },
   "source": [
    "## Loading the file"
   ]
  },
  {
   "cell_type": "code",
   "execution_count": null,
   "metadata": {
    "colab": {
     "base_uri": "https://localhost:8080/",
     "height": 221
    },
    "colab_type": "code",
    "id": "MHLQQwjIsnnW",
    "outputId": "49cc5aaa-a324-4fa8-c97d-14355c2df1f8",
    "scrolled": true
   },
   "outputs": [],
   "source": [
    "\n",
    "with open(mdl_name, 'rb') as file:  \n",
    "    model = pickle.load(file)\n",
    "\n",
    "\n",
    "with open(mdl_name2, 'rb') as file:  \n",
    "    model2 = pickle.load(file)\n"
   ]
  },
  {
   "cell_type": "code",
   "execution_count": null,
   "metadata": {
    "colab": {},
    "colab_type": "code",
    "id": "OZzA-aRCsnnb"
   },
   "outputs": [],
   "source": []
  },
  {
   "cell_type": "markdown",
   "metadata": {
    "colab_type": "text",
    "id": "CwL3UiE0snnf"
   },
   "source": [
    "## Metrics"
   ]
  },
  {
   "cell_type": "code",
   "execution_count": null,
   "metadata": {
    "colab": {
     "base_uri": "https://localhost:8080/",
     "height": 51
    },
    "colab_type": "code",
    "id": "qNpyskRXsnng",
    "outputId": "db92e96e-f6bb-447b-a1d3-23b9f4a4581d"
   },
   "outputs": [],
   "source": [
    "#Accuracy Score\n",
    "print('Best score for training data:', model.best_score_,\"\\n\") "
   ]
  },
  {
   "cell_type": "code",
   "execution_count": null,
   "metadata": {
    "colab": {
     "base_uri": "https://localhost:8080/",
     "height": 119
    },
    "colab_type": "code",
    "id": "Q2v-1cmssnnj",
    "outputId": "54b62afb-b09b-4a84-ed6c-f8818d5d0939"
   },
   "outputs": [],
   "source": [
    "# View the accuracy score\n",
    "\n",
    "\n",
    "# View the best parameters for the model found using grid search\n",
    "print('Best C:',model.best_estimator_.C,\"\\n\") \n",
    "print('Best Kernel:',model.best_estimator_.kernel,\"\\n\")\n",
    "print('Best Gamma:',model.best_estimator_.gamma,\"\\n\")"
   ]
  },
  {
   "cell_type": "markdown",
   "metadata": {
    "colab_type": "text",
    "id": "_PF1YObTsnnm"
   },
   "source": [
    "## Final Model after hyperparameters tuning used for prediction"
   ]
  },
  {
   "cell_type": "code",
   "execution_count": null,
   "metadata": {
    "colab": {},
    "colab_type": "code",
    "id": "B8UdeJeDsnnm"
   },
   "outputs": [],
   "source": [
    "final_model = model.best_estimator_\n",
    "y_pred = final_model.predict(X_test)\n",
    "y_predl = list(lbl.inverse_transform(y_pred))"
   ]
  },
  {
   "cell_type": "code",
   "execution_count": null,
   "metadata": {
    "colab": {
     "base_uri": "https://localhost:8080/",
     "height": 163
    },
    "colab_type": "code",
    "id": "5VLKq8besnny",
    "outputId": "32f452f4-f4f9-4d36-cfb7-aa7f668f5abb"
   },
   "outputs": [],
   "source": [
    "print(\"Training set score for SVM: %f\" % final_model.score(X_train , y_train))"
   ]
  },
  {
   "cell_type": "code",
   "execution_count": null,
   "metadata": {
    "colab": {},
    "colab_type": "code",
    "id": "h4pk4ESLZXIu"
   },
   "outputs": [],
   "source": []
  }
 ],
 "metadata": {
  "colab": {
   "collapsed_sections": [
    "rWD_HIDlVFq1",
    "K0jc2l61VFrE",
    "ClgN1F35VFrP",
    "QpM14HeaVFrT"
   ],
   "name": "wine_sho.ipynb",
   "provenance": [],
   "toc_visible": true
  },
  "kernelspec": {
   "display_name": "Python 3",
   "language": "python",
   "name": "python3"
  },
  "language_info": {
   "codemirror_mode": {
    "name": "ipython",
    "version": 3
   },
   "file_extension": ".py",
   "mimetype": "text/x-python",
   "name": "python",
   "nbconvert_exporter": "python",
   "pygments_lexer": "ipython3",
   "version": "3.6.9"
  }
 },
 "nbformat": 4,
 "nbformat_minor": 1
}
